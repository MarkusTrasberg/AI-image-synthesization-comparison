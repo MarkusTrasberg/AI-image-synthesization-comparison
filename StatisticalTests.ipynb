{
  "nbformat": 4,
  "nbformat_minor": 0,
  "metadata": {
    "colab": {
      "provenance": []
    },
    "kernelspec": {
      "name": "python3",
      "display_name": "Python 3"
    },
    "language_info": {
      "name": "python"
    }
  },
  "cells": [
    {
      "cell_type": "code",
      "source": [
        "!pip install statsmodels --upgrade"
      ],
      "metadata": {
        "colab": {
          "base_uri": "https://localhost:8080/",
          "height": 444
        },
        "id": "23E5jRZWlc0z",
        "outputId": "85bb0757-cdfe-49b6-a30a-62c8907c58a6"
      },
      "execution_count": null,
      "outputs": [
        {
          "output_type": "stream",
          "name": "stdout",
          "text": [
            "Looking in indexes: https://pypi.org/simple, https://us-python.pkg.dev/colab-wheels/public/simple/\n",
            "Requirement already satisfied: statsmodels in /usr/local/lib/python3.8/dist-packages (0.12.2)\n",
            "Collecting statsmodels\n",
            "  Downloading statsmodels-0.13.5-cp38-cp38-manylinux_2_17_x86_64.manylinux2014_x86_64.whl (9.9 MB)\n",
            "\u001b[2K     \u001b[90m━━━━━━━━━━━━━━━━━━━━━━━━━━━━━━━━━━━━━━━━\u001b[0m \u001b[32m9.9/9.9 MB\u001b[0m \u001b[31m48.8 MB/s\u001b[0m eta \u001b[36m0:00:00\u001b[0m\n",
            "\u001b[?25hRequirement already satisfied: numpy>=1.17 in /usr/local/lib/python3.8/dist-packages (from statsmodels) (1.22.4)\n",
            "Requirement already satisfied: pandas>=0.25 in /usr/local/lib/python3.8/dist-packages (from statsmodels) (1.3.5)\n",
            "Requirement already satisfied: scipy>=1.3 in /usr/local/lib/python3.8/dist-packages (from statsmodels) (1.7.3)\n",
            "Requirement already satisfied: patsy>=0.5.2 in /usr/local/lib/python3.8/dist-packages (from statsmodels) (0.5.3)\n",
            "Requirement already satisfied: packaging>=21.3 in /usr/local/lib/python3.8/dist-packages (from statsmodels) (23.0)\n",
            "Requirement already satisfied: pytz>=2017.3 in /usr/local/lib/python3.8/dist-packages (from pandas>=0.25->statsmodels) (2022.7.1)\n",
            "Requirement already satisfied: python-dateutil>=2.7.3 in /usr/local/lib/python3.8/dist-packages (from pandas>=0.25->statsmodels) (2.8.2)\n",
            "Requirement already satisfied: six in /usr/local/lib/python3.8/dist-packages (from patsy>=0.5.2->statsmodels) (1.15.0)\n",
            "Installing collected packages: statsmodels\n",
            "  Attempting uninstall: statsmodels\n",
            "    Found existing installation: statsmodels 0.12.2\n",
            "    Uninstalling statsmodels-0.12.2:\n",
            "      Successfully uninstalled statsmodels-0.12.2\n",
            "Successfully installed statsmodels-0.13.5\n"
          ]
        },
        {
          "output_type": "display_data",
          "data": {
            "application/vnd.colab-display-data+json": {
              "pip_warning": {
                "packages": [
                  "statsmodels"
                ]
              }
            }
          },
          "metadata": {}
        }
      ]
    },
    {
      "cell_type": "code",
      "execution_count": null,
      "metadata": {
        "id": "VKaippmjhhlj"
      },
      "outputs": [],
      "source": [
        "import pandas as pd\n",
        "import numpy as np\n",
        "import statsmodels.api as sm\n",
        "# import statsmodels.families as smfam\n",
        "import statsmodels.formula.api as smf\n",
        "from statsmodels.miscmodels.ordinal_model import OrderedModel"
      ]
    },
    {
      "cell_type": "code",
      "source": [
        "data = pd.read_csv('results-merged.csv')\n",
        "\n",
        "# Model to categorical \n",
        "# data['Model'] = pd.Categorical(data['Model'])\n",
        "# data['Score'] = pd.Categorical(data['Score'])\n",
        "\n",
        "score_map = {0: '0', 1: '1', 2: '2', 3: '3'}\n",
        "model_map = {\"Midjourney\": 1, \"Dalle\": 2, \"Stable diffusion\": 0}\n",
        "\n",
        "\n",
        "# # Replace Score with the mapped values\n",
        "data['Score'] = data['Score'].map(score_map)\n",
        "data['Score'] = pd.Categorical(data['Score'], ordered=True)\n",
        "\n",
        "data['Model'] = data['Model'].map(model_map)\n",
        "data['Score'] = pd.Categorical(data['Score'])\n",
        "\n",
        "data.dtypes\n",
        "# data['Score'].dtype\n",
        "\n",
        "#DUMMIES\n",
        "# data = pd.get_dummies(data, columns=['Model'])\n"
      ],
      "metadata": {
        "colab": {
          "base_uri": "https://localhost:8080/"
        },
        "id": "hAY5two8xr-Z",
        "outputId": "69d1a877-90c2-4722-f229-69e8fc5a2d33"
      },
      "execution_count": null,
      "outputs": [
        {
          "output_type": "execute_result",
          "data": {
            "text/plain": [
              "Model       int64\n",
              "Score    category\n",
              "dtype: object"
            ]
          },
          "metadata": {},
          "execution_count": 159
        }
      ]
    },
    {
      "cell_type": "code",
      "source": [
        "data['Score'].dtype\n",
        "# data['Score'].dtype"
      ],
      "metadata": {
        "colab": {
          "base_uri": "https://localhost:8080/"
        },
        "id": "CIHt6bkmqJk9",
        "outputId": "845cc79d-776a-46f9-a693-08acdfcdc63e"
      },
      "execution_count": null,
      "outputs": [
        {
          "output_type": "execute_result",
          "data": {
            "text/plain": [
              "CategoricalDtype(categories=['0', '1', '2', '3'], ordered=True)"
            ]
          },
          "metadata": {},
          "execution_count": 154
        }
      ]
    },
    {
      "cell_type": "code",
      "source": [
        "data.isnull().sum()"
      ],
      "metadata": {
        "colab": {
          "base_uri": "https://localhost:8080/"
        },
        "id": "AWi0VO4OxJ3_",
        "outputId": "ee13c8c8-0a83-4bfe-ac03-3508e570bd55"
      },
      "execution_count": null,
      "outputs": [
        {
          "output_type": "execute_result",
          "data": {
            "text/plain": [
              "Model    0\n",
              "Score    0\n",
              "dtype: int64"
            ]
          },
          "metadata": {},
          "execution_count": 150
        }
      ]
    },
    {
      "cell_type": "code",
      "source": [
        "mod_log = OrderedModel(data['Score'],\n",
        "                        data[['Model']],\n",
        "                        distr='logit')\n",
        "\n",
        "res_log = mod_log.fit(method='bfgs', disp=False)\n",
        "print(res_log.summary())\n",
        "# res_log.pvalues"
      ],
      "metadata": {
        "colab": {
          "base_uri": "https://localhost:8080/"
        },
        "id": "kyi0tCfcu-X4",
        "outputId": "c657a7f1-1ebe-420c-a17e-0cd076380ed4"
      },
      "execution_count": null,
      "outputs": [
        {
          "output_type": "stream",
          "name": "stdout",
          "text": [
            "                             OrderedModel Results                             \n",
            "==============================================================================\n",
            "Dep. Variable:                  Score   Log-Likelihood:                -378.81\n",
            "Model:                   OrderedModel   AIC:                             765.6\n",
            "Method:            Maximum Likelihood   BIC:                             781.2\n",
            "Date:                Tue, 28 Feb 2023                                         \n",
            "Time:                        13:22:06                                         \n",
            "No. Observations:                 360                                         \n",
            "Df Residuals:                     356                                         \n",
            "Df Model:                           4                                         \n",
            "==============================================================================\n",
            "                 coef    std err          z      P>|z|      [0.025      0.975]\n",
            "------------------------------------------------------------------------------\n",
            "Model          0.6350      0.128      4.968      0.000       0.384       0.885\n",
            "0/1           -2.2518      0.245     -9.182      0.000      -2.732      -1.771\n",
            "1/2            1.0107      0.083     12.191      0.000       0.848       1.173\n",
            "2/3           -1.1137      0.182     -6.109      0.000      -1.471      -0.756\n",
            "==============================================================================\n"
          ]
        }
      ]
    }
  ]
}